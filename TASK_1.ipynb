{
  "nbformat": 4,
  "nbformat_minor": 0,
  "metadata": {
    "colab": {
      "name": "TASK 1.ipynb",
      "provenance": [],
      "collapsed_sections": [],
      "authorship_tag": "ABX9TyOwv0nyDgJCND5IMMUtCtq9",
      "include_colab_link": true
    },
    "kernelspec": {
      "name": "python3",
      "display_name": "Python 3"
    },
    "language_info": {
      "name": "python"
    }
  },
  "cells": [
    {
      "cell_type": "markdown",
      "metadata": {
        "id": "view-in-github",
        "colab_type": "text"
      },
      "source": [
        "<a href=\"https://colab.research.google.com/github/Sam2415-gif/Goeduhub/blob/main/TASK_1.ipynb\" target=\"_parent\"><img src=\"https://colab.research.google.com/assets/colab-badge.svg\" alt=\"Open In Colab\"/></a>"
      ]
    },
    {
      "cell_type": "markdown",
      "metadata": {
        "id": "I5FmM8uDx4YC"
      },
      "source": [
        "**Task 1**\n",
        "\n",
        "**Reg No : GO_STP_11529**\n",
        "\n",
        "**Date : 21/05/2021**\n",
        "1. **We are having 3 list like this**\n",
        "\n",
        "Colors = [“Yellow”,”Green”,”White”,”Black”]\n",
        "\n",
        "Fruits=[“Apple”,”Papaya”,”Mango”,”Orange”]\n",
        "\n",
        "Animals=[“Tiger”,”Lion”,”Deer”,”Zebra”]\n",
        "\n",
        "i. **Write a program that asks user to enter a Color/Fruit/Animal name and it should tell which category belongs to , like its is\n",
        "a fruit or color or Animal**"
      ]
    },
    {
      "cell_type": "code",
      "metadata": {
        "colab": {
          "base_uri": "https://localhost:8080/"
        },
        "id": "o4OSQc0S0GHL",
        "outputId": "cafa070a-ce81-4292-f1d0-d3395d85025e"
      },
      "source": [
        "Colors = ['Yellow','Green','White','Black']\n",
        "Fruits=['Apple','Papaya','Mango','Orange']\n",
        "Animals=['Tiger','Lion','Deer','Zebra']\n",
        "name=input('enter name: ')\n",
        "if name in Colors:\n",
        " category='Colors'\n",
        "elif name in Fruits:\n",
        " category='Fruits'\n",
        "elif name in Animals:\n",
        " category='Animals'\n",
        "else:\n",
        " category='null'\n",
        "print('category:',category)"
      ],
      "execution_count": 5,
      "outputs": [
        {
          "output_type": "stream",
          "text": [
            "enter name: Apple\n",
            "category: Fruits\n"
          ],
          "name": "stdout"
        }
      ]
    },
    {
      "cell_type": "markdown",
      "metadata": {
        "id": "VRc_pb040Riy"
      },
      "source": [
        "**ii. Write a program that asks user to enter two cities and it tells you if they both are in same country or not. For example if I\n",
        "enter yellow and Black, it will print \"Both are colors\" but if I enter yellow and Tiger it should print \"They don't belong to\n",
        "same category\"**\n"
      ]
    },
    {
      "cell_type": "code",
      "metadata": {
        "colab": {
          "base_uri": "https://localhost:8080/"
        },
        "id": "77Us6G-70Zcm",
        "outputId": "be8c3ba4-4f19-416c-df66-8eb1c52ada9d"
      },
      "source": [
        "Colors = ['Yellow','Green','White','Black']\n",
        "Fruits=['Apple','Papaya','Mango','Orange']\n",
        "Animals=['Tiger','Lion','Deer','Zebra']\n",
        "name_1=input('enter name_1 : ')\n",
        "name_2=input('enter name_2 : ')\n",
        "if name_1 in Colors and name_2 in Colors:\n",
        " category='both are Colors'\n",
        "elif name_1 in Fruits and name_2 in Fruits:\n",
        " category='both are Fruits'\n",
        "elif name_1 in Animals and name_2 in Animals:\n",
        " category ='both are Animals'\n",
        "else:\n",
        " category='they do not belongs same category'\n",
        "print('category',category)\n"
      ],
      "execution_count": 7,
      "outputs": [
        {
          "output_type": "stream",
          "text": [
            "enter name_1 : Yellow\n",
            "enter name_2 : Green\n",
            "category both are Colors\n"
          ],
          "name": "stdout"
        }
      ]
    },
    {
      "cell_type": "markdown",
      "metadata": {
        "id": "bQd6KSno1HKj"
      },
      "source": [
        "**2. Write a python program that can tell you if your grade score good or not . Good Score range\n",
        "is 40 to 60.**"
      ]
    },
    {
      "cell_type": "markdown",
      "metadata": {
        "id": "0aCz9cB51XZR"
      },
      "source": [
        "i. Ask user to enter his score.\n",
        "\n",
        "ii. If it is below 40 to 60 range then print that score is low\n",
        "\n",
        "iii. If it is above 60 then print that it is good otherwise print that it is normal"
      ]
    },
    {
      "cell_type": "code",
      "metadata": {
        "colab": {
          "base_uri": "https://localhost:8080/"
        },
        "id": "1-whMvhs30wK",
        "outputId": "11b6d4a4-df73-4838-8f44-f0baaeb28040"
      },
      "source": [
        "n=int(input('enter the score : '))\n",
        "if n>60:\n",
        " print('it is good')\n",
        "elif n<40:\n",
        " print('score is low')\n",
        "else:\n",
        " print('it is normal')"
      ],
      "execution_count": 13,
      "outputs": [
        {
          "output_type": "stream",
          "text": [
            "enter the score : 81\n",
            "it is good\n"
          ],
          "name": "stdout"
        }
      ]
    },
    {
      "cell_type": "markdown",
      "metadata": {
        "id": "WFM4VHxH4D9q"
      },
      "source": [
        "**3. After appearing in exam 10 times you got this result,**"
      ]
    },
    {
      "cell_type": "markdown",
      "metadata": {
        "id": "0_SBT_UA4Hzt"
      },
      "source": [
        "result = [\"Pass\",\"Fail\",\"Fail\",\"Pass\",\"Fail\",\"Pass\",\"Pass\",\"Fail\",\"Fail\",\"Fail\"]\n",
        "\n",
        "Using for loop figure out how many times you got Pass"
      ]
    },
    {
      "cell_type": "code",
      "metadata": {
        "colab": {
          "base_uri": "https://localhost:8080/"
        },
        "id": "6rVHSKZb5hL4",
        "outputId": "4f1cb0a2-58bc-4bf0-c6d5-bd3a6035c287"
      },
      "source": [
        "result = [\"Pass\",\"Fail\",\"Fail\",\"Pass\",\"Fail\",\"Pass\",\"Pass\",\"Fail\",\"Fail\",\"Fail\"]\n",
        "counter = 0\n",
        "for s in result:\n",
        " if s==\"Pass\":\n",
        "   counter+=1\n",
        "print(counter)\n",
        " "
      ],
      "execution_count": 23,
      "outputs": [
        {
          "output_type": "stream",
          "text": [
            "4\n"
          ],
          "name": "stdout"
        }
      ]
    },
    {
      "cell_type": "markdown",
      "metadata": {
        "id": "PVkztrlo50ea"
      },
      "source": [
        "**4.Write a program that prints following shape**"
      ]
    },
    {
      "cell_type": "code",
      "metadata": {
        "colab": {
          "base_uri": "https://localhost:8080/"
        },
        "id": "Nm0ctLp98LQ6",
        "outputId": "bbc8e084-2438-47ca-fa40-e135e5603fdd"
      },
      "source": [
        "for i in range(6):\n",
        "  for j in range(i):\n",
        "    print(\"*\",end=\"\")\n",
        "  print()\n",
        "for i in range(5,0,-1):\n",
        "  for j in range(i):\n",
        "    print(\"*\",end=\"\")\n",
        "  print()"
      ],
      "execution_count": 28,
      "outputs": [
        {
          "output_type": "stream",
          "text": [
            "\n",
            "*\n",
            "**\n",
            "***\n",
            "****\n",
            "*****\n",
            "*****\n",
            "****\n",
            "***\n",
            "**\n",
            "*\n"
          ],
          "name": "stdout"
        }
      ]
    },
    {
      "cell_type": "markdown",
      "metadata": {
        "id": "d-PK43079GOH"
      },
      "source": [
        "**5. Lets say you are running a 50 km race. Write a program that,**"
      ]
    },
    {
      "cell_type": "markdown",
      "metadata": {
        "id": "aJz6gvFP9Yag"
      },
      "source": [
        "1.Upon completing each 10 km asks you \"are you tired?\"\n",
        "\n",
        "2.If you reply \"yes\" then it should break and print \"you didn't finish the race\"\n",
        "\n",
        "3.If you reply \"no\" then it should continue and ask \"are you tired\" on every km\n",
        "\n",
        "4.If you finish all 50 km then it should print congratulations message\n"
      ]
    },
    {
      "cell_type": "code",
      "metadata": {
        "colab": {
          "base_uri": "https://localhost:8080/"
        },
        "id": "O2kkY373ARRT",
        "outputId": "4256c1fd-b917-4cdd-a654-4725d4b67f91"
      },
      "source": [
        "for distance in range(1,51):\n",
        "  if distance < 50 and distance % 10 == 0:\n",
        "    print(\"are you tired?\")\n",
        "    reply = input(\"Enter Yes or No : \")\n",
        "    if reply.lower() == \"yes\":\n",
        "      print(\"you didn't finish the race\")\n",
        "      break\n",
        "    elif reply.lower() == \"no\":\n",
        "      continue\n",
        "    else:\n",
        "      print(\"Invalid Input\")\n",
        "  if distance == 50:\n",
        "    print('congratulations !')\n",
        "\n",
        "\n",
        "\n",
        "\n",
        "\n",
        "\n",
        "\n"
      ],
      "execution_count": 41,
      "outputs": [
        {
          "output_type": "stream",
          "text": [
            "are you tired?\n",
            "Enter Yes or No : No\n",
            "are you tired?\n",
            "Enter Yes or No : No\n",
            "are you tired?\n",
            "Enter Yes or No : No\n",
            "are you tired?\n",
            "Enter Yes or No : NO\n",
            "congratulations !\n"
          ],
          "name": "stdout"
        }
      ]
    },
    {
      "cell_type": "markdown",
      "metadata": {
        "id": "RclBrEAhBJTG"
      },
      "source": [
        "**6. Write a Python program to find those numbers which are divisible by 7 and multiple of 5,\n",
        "between 1500 and 2700 (both included).**\n"
      ]
    },
    {
      "cell_type": "code",
      "metadata": {
        "colab": {
          "base_uri": "https://localhost:8080/"
        },
        "id": "QJoSj1OCBQ-g",
        "outputId": "d5621adc-e18b-4b41-a8c4-7420b6904c5b"
      },
      "source": [
        "for number in range(1500,2701):\n",
        "  if number % 7 == 0 and number % 5 == 0:\n",
        "    print(number,end=\" \")"
      ],
      "execution_count": 42,
      "outputs": [
        {
          "output_type": "stream",
          "text": [
            "1505 1540 1575 1610 1645 1680 1715 1750 1785 1820 1855 1890 1925 1960 1995 2030 2065 2100 2135 2170 2205 2240 2275 2310 2345 2380 2415 2450 2485 2520 2555 2590 2625 2660 2695 "
          ],
          "name": "stdout"
        }
      ]
    },
    {
      "cell_type": "markdown",
      "metadata": {
        "id": "XPsIuZm3BZ3u"
      },
      "source": [
        "**7. Print square of all numbers between 10 to 20 except even numbers**"
      ]
    },
    {
      "cell_type": "code",
      "metadata": {
        "colab": {
          "base_uri": "https://localhost:8080/"
        },
        "id": "1uCkjkr7BeeY",
        "outputId": "8673472e-406d-4efd-8889-275991e1d945"
      },
      "source": [
        "for number in range(10,21):\n",
        "  if number % 2 == 1:\n",
        "    print(number ** 2, end=\" \")\n"
      ],
      "execution_count": 43,
      "outputs": [
        {
          "output_type": "stream",
          "text": [
            "121 169 225 289 361 "
          ],
          "name": "stdout"
        }
      ]
    },
    {
      "cell_type": "markdown",
      "metadata": {
        "id": "aD7BIxVQBmOE"
      },
      "source": [
        "**8.Your Marks for five Test(test1 to test5) looks like this,**"
      ]
    },
    {
      "cell_type": "markdown",
      "metadata": {
        "id": "jnrYzPi_BsJs"
      },
      "source": [
        "marks_list = [65, 75, 2100, 95, 83]\n"
      ]
    },
    {
      "cell_type": "markdown",
      "metadata": {
        "id": "OaXW0rK1Bur-"
      },
      "source": [
        "**Write a program that asks you to enter marks and program should tell you in which test that expense occurred. If expense\n",
        "is not found then it should print that as well.**"
      ]
    },
    {
      "cell_type": "code",
      "metadata": {
        "colab": {
          "base_uri": "https://localhost:8080/"
        },
        "id": "3JcKC1hfBysQ",
        "outputId": "7720d972-791c-4d5d-fbd0-8a9e1a1496a4"
      },
      "source": [
        "marks_list = [65, 75, 2100, 95, 83]\n",
        "given_mark = eval(input(\"Enter the Mark : \"))\n",
        "if given_mark in marks_list:\n",
        "  idx = marks_list.index(given_mark)\n",
        "  print(f'Test found in index : {idx}')\n",
        "else:\n",
        "  print(\"Test not found\")\n",
        "\n",
        "\n"
      ],
      "execution_count": 44,
      "outputs": [
        {
          "output_type": "stream",
          "text": [
            "Enter the Mark : 83\n",
            "Test found in index : 4\n"
          ],
          "name": "stdout"
        }
      ]
    }
  ]
}