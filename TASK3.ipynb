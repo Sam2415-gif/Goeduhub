{
  "nbformat": 4,
  "nbformat_minor": 0,
  "metadata": {
    "colab": {
      "name": "TASK3.ipynb",
      "provenance": [],
      "authorship_tag": "ABX9TyNWZkUt7/RZaY/wqDPC9ZHl",
      "include_colab_link": true
    },
    "kernelspec": {
      "name": "python3",
      "display_name": "Python 3"
    },
    "language_info": {
      "name": "python"
    }
  },
  "cells": [
    {
      "cell_type": "markdown",
      "metadata": {
        "id": "view-in-github",
        "colab_type": "text"
      },
      "source": [
        "<a href=\"https://colab.research.google.com/github/Sam2415-gif/Goeduhub/blob/main/TASK3.ipynb\" target=\"_parent\"><img src=\"https://colab.research.google.com/assets/colab-badge.svg\" alt=\"Open In Colab\"/></a>"
      ]
    },
    {
      "cell_type": "markdown",
      "metadata": {
        "id": "GxhjV0-6SJ5H"
      },
      "source": [
        "**Task 3**\n",
        "\n",
        "**Name -SAMMOHAN PRADHAN**\n",
        "\n",
        "**Reg no. - GO_STP_13234**"
      ]
    },
    {
      "cell_type": "markdown",
      "metadata": {
        "id": "dG7ugI7BSZ5z"
      },
      "source": [
        "Questions on dictionary:-\n",
        "\n"
      ]
    },
    {
      "cell_type": "markdown",
      "metadata": {
        "id": "9KIz31msSbAc"
      },
      "source": [
        "Q1. Write a Python Program to sort (ascending and descending) a dictionary by value."
      ]
    },
    {
      "cell_type": "code",
      "metadata": {
        "colab": {
          "base_uri": "https://localhost:8080/"
        },
        "id": "qvUJoy-ySdyS",
        "outputId": "452e7edd-ec97-455f-a6b7-e8941785dc6f"
      },
      "source": [
        "import operator\n",
        "\n",
        "x = {1:2,3:4,4:3,2:1,0:0}\n",
        "print('Original dictionary: ',x)\n",
        "\n",
        "l=sorted(x.items(), key=operator.itemgetter(1))\n",
        "print('Ascending order of dictionary is: ',l)\n",
        "\n",
        "l=sorted(x.items(), key=operator.itemgetter(1), reverse=True)\n",
        "print('Descending order of dictionary is: ',l)"
      ],
      "execution_count": 1,
      "outputs": [
        {
          "output_type": "stream",
          "text": [
            "Original dictionary:  {1: 2, 3: 4, 4: 3, 2: 1, 0: 0}\n",
            "Ascending order of dictionary is:  [(0, 0), (2, 1), (1, 2), (4, 3), (3, 4)]\n",
            "Descending order of dictionary is:  [(3, 4), (4, 3), (1, 2), (2, 1), (0, 0)]\n"
          ],
          "name": "stdout"
        }
      ]
    },
    {
      "cell_type": "markdown",
      "metadata": {
        "id": "sR3mZMDMSmHE"
      },
      "source": [
        "Q.2 Write a Python Program to add a key to a dictionary.\n",
        "\n",
        "Sample Dictionary : {0: 10, 1: 20}\n",
        "\n",
        "Expected Result : {0: 10, 1: 20, 2: 30}"
      ]
    },
    {
      "cell_type": "code",
      "metadata": {
        "colab": {
          "base_uri": "https://localhost:8080/"
        },
        "id": "3O7-6UtUSm-N",
        "outputId": "4c45dd6a-f2d8-4319-aa1d-3784fb4b6b2c"
      },
      "source": [
        "d = {0:10, 1:20}\n",
        "d[2] = 30\n",
        "print(d)"
      ],
      "execution_count": 2,
      "outputs": [
        {
          "output_type": "stream",
          "text": [
            "{0: 10, 1: 20, 2: 30}\n"
          ],
          "name": "stdout"
        }
      ]
    },
    {
      "cell_type": "markdown",
      "metadata": {
        "id": "P4WIRnp2Ssdr"
      },
      "source": [
        "Q.3 Write a program asks for City name and Temperature and builds a dictionary using that Later on you can input City name and it will tell you the Temperature of that City."
      ]
    },
    {
      "cell_type": "code",
      "metadata": {
        "colab": {
          "base_uri": "https://localhost:8080/"
        },
        "id": "3icvoW4vSsLY",
        "outputId": "a12aa27a-18c0-43cd-b939-7bd8bb10c5c0"
      },
      "source": [
        "d={}\n",
        "d['New Delhi'] = 38\n",
        "d['Mumbai'] = 35\n",
        "d['Chennai'] = 40\n",
        "d['Kolkata'] = 36\n",
        "d['Bangalore'] = 32\n",
        "d['Ahmedabad'] = 42\n",
        "d['Srinagar'] = 22\n",
        "print(d)\n",
        "\n",
        "city = input('Enter a city name: ')\n",
        "if city in d:\n",
        "  print('The temperature in',city,'is',d[city])\n",
        "else:\n",
        "  print('The city is not in the dictionary')  "
      ],
      "execution_count": 3,
      "outputs": [
        {
          "output_type": "stream",
          "text": [
            "{'New Delhi': 38, 'Mumbai': 35, 'Chennai': 40, 'Kolkata': 36, 'Bangalore': 32, 'Ahmedabad': 42, 'Srinagar': 22}\n",
            "Enter a city name: Kolkata\n",
            "The temperature in Kolkata is 36\n"
          ],
          "name": "stdout"
        }
      ]
    },
    {
      "cell_type": "markdown",
      "metadata": {
        "id": "IPWZQ8oHS3Zd"
      },
      "source": [
        "Q.4 Write a Python program to convert list to list of dictionaries.\n",
        "\n",
        "Sample lists: [\"Black\", \"Red\", \"Maroon\", \"Yellow\"], [\"#000000\", \"#FF0000\", \"#800000\", \"#FFFF00\"]\n",
        "\n",
        "Expected Output: [{'color_name': 'Black', 'color_code': '#000000'}, {'color_name': 'Red', 'color_code': '#FF0000'}, {'color_name': 'Maroon', 'color_code': '#800000'}, {'color_name': 'Yellow', 'color_code': '#FFFF00'}]"
      ]
    },
    {
      "cell_type": "code",
      "metadata": {
        "colab": {
          "base_uri": "https://localhost:8080/"
        },
        "id": "MNCeRo5DS6vF",
        "outputId": "a6d72de0-bfdd-49fe-ab16-fd714c4999d5"
      },
      "source": [
        "color_name = [\"Black\",\"Red\",\"Maroon\",\"Yellow\"]\n",
        "color_code = [\"#000000\", \"#FF0000\", \"#800000\", \"#FFFF00\"]\n",
        "\n",
        "print([{'color_name':n,'color_code':c} for n,c in zip(color_name,color_code)])"
      ],
      "execution_count": 4,
      "outputs": [
        {
          "output_type": "stream",
          "text": [
            "[{'color_name': 'Black', 'color_code': '#000000'}, {'color_name': 'Red', 'color_code': '#FF0000'}, {'color_name': 'Maroon', 'color_code': '#800000'}, {'color_name': 'Yellow', 'color_code': '#FFFF00'}]\n"
          ],
          "name": "stdout"
        }
      ]
    },
    {
      "cell_type": "markdown",
      "metadata": {
        "id": "oclP6_MrTBh6"
      },
      "source": [
        "Q. 5 We have following information on Employees and their Salary (Salary is in lakhs),\n",
        "\n",
        "Employee Salary John 14 Smith 13 Alice 32 Daneil 21\n",
        "\n",
        "Using above create a dictionary of Employees and their Salary Write a program that asks user for three type of inputs,\n",
        "\n",
        "print: if user enter print then it should print all Employees with their Salary in this format, John ==>14 Smith ==>13 Alice ==>32 Daneil ==>21\n",
        "\n",
        "add: if user input adds then it should further ask for an Employee name to add. If Employee already exists in our dataset then it should print that it exists and do nothing. If it doesn't then it asks for Salary and add that new Employee/Salary in our dictionary and print it\n",
        "\n",
        "remove: when user inputs remove it should ask for an Employee to remove. If an Employee exists in our dictionary then remove it and print a new dictionary using format shown above in (a). Else print that Employee doesn't exist!\n",
        "\n",
        "query: on this again ask the user for which Employee he or she wants to query. When a user inputs that Employee it will print the Salary of that Employee."
      ]
    },
    {
      "cell_type": "code",
      "metadata": {
        "colab": {
          "base_uri": "https://localhost:8080/"
        },
        "id": "6t3-MIOoTCyE",
        "outputId": "91b35b1b-8202-4a11-9152-fcd63257d610"
      },
      "source": [
        "d={}\n",
        "d['John'] = 14\n",
        "d['Smith'] = 13\n",
        "d['Alice'] = 32\n",
        "d['Daneil'] = 21\n",
        "print(d)\n",
        "dict.items(d)\n",
        "\n",
        "name = input('Enter an employee name: ')\n",
        "if name in d:\n",
        "  print('Already exists')\n",
        "else:\n",
        "  salary = input('Enter salary: ')\n",
        "d[name] = salary\n",
        "print(d)\n",
        "\n",
        "name = input('Enter an employee name: ')\n",
        "if name in d:\n",
        "  d.pop(name)\n",
        "  print(d)\n",
        "else:\n",
        "  print(\"Employee doesn't exist\")\n",
        "\n",
        "name = input('Enter an employee name: ')\n",
        "if name in d:\n",
        "  print('The salary of ',name,'is: ',d[name])\n",
        "else:\n",
        "  print('Not found')  "
      ],
      "execution_count": 5,
      "outputs": [
        {
          "output_type": "stream",
          "text": [
            "{'John': 14, 'Smith': 13, 'Alice': 32, 'Daneil': 21}\n",
            "Enter an employee name: Sammohan\n",
            "Enter salary: 25\n",
            "{'John': 14, 'Smith': 13, 'Alice': 32, 'Daneil': 21, 'Sammohan': '25'}\n",
            "Enter an employee name: Alice\n",
            "{'John': 14, 'Smith': 13, 'Daneil': 21, 'Sammohan': '25'}\n",
            "Enter an employee name: Smith\n",
            "The salary of  Smith is:  13\n"
          ],
          "name": "stdout"
        }
      ]
    },
    {
      "cell_type": "markdown",
      "metadata": {
        "id": "E0hy5AFbTUkE"
      },
      "source": [
        "Questions on Sets-\n",
        "\n",
        "Q.1 What is the difference between a set and a frozenset? Create any set and try to use frozenset(setname).\n",
        "\n",
        "Frozen set is just an immutable version of a Python set object. While elements of a set can be modified at any time, elements of the frozen set remain the same after creation.\n",
        "\n",
        "Due to this, frozen sets can be used as keys in Dictionary or as elements of another set. But like sets, it is not ordered"
      ]
    },
    {
      "cell_type": "code",
      "metadata": {
        "colab": {
          "base_uri": "https://localhost:8080/"
        },
        "id": "v5zG-n_4TX1E",
        "outputId": "dee33065-336d-47b5-9f6a-2889b1b03f0f"
      },
      "source": [
        "my_set = {'a','b','c','d'}\n",
        "print(my_set)\n",
        "my_set.add('e')\n",
        "print(my_set)\n",
        "\n",
        "fset = frozenset(my_set)\n",
        "print('The frozen set is: ',fset)"
      ],
      "execution_count": 6,
      "outputs": [
        {
          "output_type": "stream",
          "text": [
            "{'a', 'd', 'c', 'b'}\n",
            "{'a', 'b', 'c', 'd', 'e'}\n",
            "The frozen set is:  frozenset({'a', 'b', 'd', 'c', 'e'})\n"
          ],
          "name": "stdout"
        }
      ]
    },
    {
      "cell_type": "markdown",
      "metadata": {
        "id": "Ubm3bgJxTb7g"
      },
      "source": [
        "Q.2 Find the elements in a given set that are not in another set"
      ]
    },
    {
      "cell_type": "markdown",
      "metadata": {
        "id": "24TsyyeHTob0"
      },
      "source": [
        "set1 = {10,20,30,40,50}\n",
        " \n",
        "set2 = {40,50,60,70,80}\n",
        "\n",
        "Difference between set1 and set2 is {10,20,30}"
      ]
    },
    {
      "cell_type": "code",
      "metadata": {
        "colab": {
          "base_uri": "https://localhost:8080/"
        },
        "id": "wx7ipHTTTu31",
        "outputId": "0cef084b-eebe-4025-e2c7-cd88ab9460db"
      },
      "source": [
        "set1 = {10,20,30,40,50}\n",
        "set2 = {40,50,60,70,80}\n",
        "\n",
        "set3 = set1.symmetric_difference(set2)\n",
        "print('Elements in a given set that are not in another set: ',set3)\n",
        "\n",
        "set4 = set1 - set2\n",
        "print('Difference between set1 and set2 is ',set4)"
      ],
      "execution_count": 8,
      "outputs": [
        {
          "output_type": "stream",
          "text": [
            "Elements in a given set that are not in another set:  {80, 20, 70, 10, 60, 30}\n",
            "Difference between set1 and set2 is  {10, 20, 30}\n"
          ],
          "name": "stdout"
        }
      ]
    }
  ]
}