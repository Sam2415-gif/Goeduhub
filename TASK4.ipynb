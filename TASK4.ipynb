{
  "nbformat": 4,
  "nbformat_minor": 0,
  "metadata": {
    "colab": {
      "name": "TASK4.ipynb",
      "provenance": [],
      "authorship_tag": "ABX9TyMd0XhtbgJi0DZbt2k4DSWM",
      "include_colab_link": true
    },
    "kernelspec": {
      "name": "python3",
      "display_name": "Python 3"
    },
    "language_info": {
      "name": "python"
    }
  },
  "cells": [
    {
      "cell_type": "markdown",
      "metadata": {
        "id": "view-in-github",
        "colab_type": "text"
      },
      "source": [
        "<a href=\"https://colab.research.google.com/github/Sam2415-gif/Goeduhub/blob/main/TASK4.ipynb\" target=\"_parent\"><img src=\"https://colab.research.google.com/assets/colab-badge.svg\" alt=\"Open In Colab\"/></a>"
      ]
    },
    {
      "cell_type": "markdown",
      "metadata": {
        "id": "PFOH8pfkU0t2"
      },
      "source": [
        "Task 4\n",
        "\n",
        "Name - SAMMOHAN PRADHAN\n",
        "\n",
        "Reg no. - 11529\n",
        "\n"
      ]
    },
    {
      "cell_type": "markdown",
      "metadata": {
        "id": "br6MTVTRU9yk"
      },
      "source": [
        "Q1. Import the numpy package under the name np and Print the numpy version and the configuration."
      ]
    },
    {
      "cell_type": "code",
      "metadata": {
        "colab": {
          "base_uri": "https://localhost:8080/"
        },
        "id": "dVvzfxAAU_-F",
        "outputId": "85a8e1aa-2a9f-4494-cec8-d1d2c74838bf"
      },
      "source": [
        "import numpy as np\n",
        "print(np.__version__)\n",
        "print(np.show_config())"
      ],
      "execution_count": 1,
      "outputs": [
        {
          "output_type": "stream",
          "text": [
            "1.19.5\n",
            "blas_mkl_info:\n",
            "  NOT AVAILABLE\n",
            "blis_info:\n",
            "  NOT AVAILABLE\n",
            "openblas_info:\n",
            "    libraries = ['openblas', 'openblas']\n",
            "    library_dirs = ['/usr/local/lib']\n",
            "    language = c\n",
            "    define_macros = [('HAVE_CBLAS', None)]\n",
            "blas_opt_info:\n",
            "    libraries = ['openblas', 'openblas']\n",
            "    library_dirs = ['/usr/local/lib']\n",
            "    language = c\n",
            "    define_macros = [('HAVE_CBLAS', None)]\n",
            "lapack_mkl_info:\n",
            "  NOT AVAILABLE\n",
            "openblas_lapack_info:\n",
            "    libraries = ['openblas', 'openblas']\n",
            "    library_dirs = ['/usr/local/lib']\n",
            "    language = c\n",
            "    define_macros = [('HAVE_CBLAS', None)]\n",
            "lapack_opt_info:\n",
            "    libraries = ['openblas', 'openblas']\n",
            "    library_dirs = ['/usr/local/lib']\n",
            "    language = c\n",
            "    define_macros = [('HAVE_CBLAS', None)]\n",
            "None\n"
          ],
          "name": "stdout"
        }
      ]
    },
    {
      "cell_type": "markdown",
      "metadata": {
        "id": "PF13ukIpVP_-"
      },
      "source": [
        "Q2. Create a null vector of size 10"
      ]
    },
    {
      "cell_type": "code",
      "metadata": {
        "colab": {
          "base_uri": "https://localhost:8080/"
        },
        "id": "o5M4LVQbVQmP",
        "outputId": "c8ff47a3-bd34-4d5b-a363-4f75894019d8"
      },
      "source": [
        "x = np.zeros(10)\n",
        "print(x)"
      ],
      "execution_count": 2,
      "outputs": [
        {
          "output_type": "stream",
          "text": [
            "[0. 0. 0. 0. 0. 0. 0. 0. 0. 0.]\n"
          ],
          "name": "stdout"
        }
      ]
    },
    {
      "cell_type": "markdown",
      "metadata": {
        "id": "pmKWcabIVYLN"
      },
      "source": [
        "Q3. Create Simple 1-D array and check type and check data types in array"
      ]
    },
    {
      "cell_type": "code",
      "metadata": {
        "colab": {
          "base_uri": "https://localhost:8080/"
        },
        "id": "TRO3BqnbVYxR",
        "outputId": "f74b6c94-972b-4d36-9ab7-90a8bf483c62"
      },
      "source": [
        "a = np.array([10,20,30])\n",
        "print(a)\n",
        "print(a.dtype)"
      ],
      "execution_count": 3,
      "outputs": [
        {
          "output_type": "stream",
          "text": [
            "[10 20 30]\n",
            "int64\n"
          ],
          "name": "stdout"
        }
      ]
    },
    {
      "cell_type": "markdown",
      "metadata": {
        "id": "cgH3J1zXVcpC"
      },
      "source": [
        "Q4. How to find number of dimensions, bytes per element and bytes of memory used?"
      ]
    },
    {
      "cell_type": "code",
      "metadata": {
        "colab": {
          "base_uri": "https://localhost:8080/"
        },
        "id": "xx1YsPiWVdPl",
        "outputId": "53159fbf-9925-4297-fd05-cd5c54e107f7"
      },
      "source": [
        "import sys\n",
        "y = np.array([1,2,3,4,5,6])\n",
        "print('Dimension of array is: ',y.size)\n",
        "print('Bytes per element is: ',y.itemsize)\n",
        "print('Bytes of memory used: ',y.nbytes)"
      ],
      "execution_count": 4,
      "outputs": [
        {
          "output_type": "stream",
          "text": [
            "Dimension of array is:  6\n",
            "Bytes per element is:  8\n",
            "Bytes of memory used:  48\n"
          ],
          "name": "stdout"
        }
      ]
    },
    {
      "cell_type": "markdown",
      "metadata": {
        "id": "Hj94WRTfVgtt"
      },
      "source": [
        "Q5. Create a null vector of size 10 but the fifth value which is 1"
      ]
    },
    {
      "cell_type": "code",
      "metadata": {
        "colab": {
          "base_uri": "https://localhost:8080/"
        },
        "id": "f3VjRFwLVhj9",
        "outputId": "69ab3697-fc0b-43fc-dbbd-906672320e87"
      },
      "source": [
        "x = np.zeros(10)\n",
        "print(x)\n",
        "print('Update fifth value to 1')\n",
        "x[5]=1\n",
        "print(x)"
      ],
      "execution_count": 5,
      "outputs": [
        {
          "output_type": "stream",
          "text": [
            "[0. 0. 0. 0. 0. 0. 0. 0. 0. 0.]\n",
            "Update fifth value to 1\n",
            "[0. 0. 0. 0. 0. 1. 0. 0. 0. 0.]\n"
          ],
          "name": "stdout"
        }
      ]
    },
    {
      "cell_type": "markdown",
      "metadata": {
        "id": "RiExO97mVkxO"
      },
      "source": [
        "Q6. Create a vector with values ranging from 10 to 49"
      ]
    },
    {
      "cell_type": "code",
      "metadata": {
        "colab": {
          "base_uri": "https://localhost:8080/"
        },
        "id": "47hevDrrVmwG",
        "outputId": "821e1470-1f18-4658-8635-14237e8fc78a"
      },
      "source": [
        "z = np.arange(10,49)\n",
        "print(z)"
      ],
      "execution_count": 6,
      "outputs": [
        {
          "output_type": "stream",
          "text": [
            "[10 11 12 13 14 15 16 17 18 19 20 21 22 23 24 25 26 27 28 29 30 31 32 33\n",
            " 34 35 36 37 38 39 40 41 42 43 44 45 46 47 48]\n"
          ],
          "name": "stdout"
        }
      ]
    },
    {
      "cell_type": "markdown",
      "metadata": {
        "id": "xcXAtvmlVuBu"
      },
      "source": [
        "Q7. Reverse a vector (first element becomes last)"
      ]
    },
    {
      "cell_type": "code",
      "metadata": {
        "colab": {
          "base_uri": "https://localhost:8080/"
        },
        "id": "BBJ9TFu-Vumu",
        "outputId": "75379e7d-e786-44d8-f311-7dbf05e40526"
      },
      "source": [
        "m = np.arange(0,10)\n",
        "print('Original vector: ',m)\n",
        "m = m[::-1]\n",
        "print('Reverse vector: ',m)"
      ],
      "execution_count": 7,
      "outputs": [
        {
          "output_type": "stream",
          "text": [
            "Original vector:  [0 1 2 3 4 5 6 7 8 9]\n",
            "Reverse vector:  [9 8 7 6 5 4 3 2 1 0]\n"
          ],
          "name": "stdout"
        }
      ]
    },
    {
      "cell_type": "markdown",
      "metadata": {
        "id": "ndq9yMA1VynF"
      },
      "source": [
        "Q8. Create a 3x3 matrix with values ranging from 0 to 8"
      ]
    },
    {
      "cell_type": "code",
      "metadata": {
        "colab": {
          "base_uri": "https://localhost:8080/"
        },
        "id": "55L5u9_7Vzmt",
        "outputId": "010edf72-04d0-4cbe-e01c-e22217c9f10c"
      },
      "source": [
        "t = np.arange(0,9).reshape(3,3)\n",
        "print(t)"
      ],
      "execution_count": 8,
      "outputs": [
        {
          "output_type": "stream",
          "text": [
            "[[0 1 2]\n",
            " [3 4 5]\n",
            " [6 7 8]]\n"
          ],
          "name": "stdout"
        }
      ]
    },
    {
      "cell_type": "markdown",
      "metadata": {
        "id": "tkNZ1Wv3V3dV"
      },
      "source": [
        "Q9. Find indices of non-zero elements from [1,2,0,0,4,0]"
      ]
    },
    {
      "cell_type": "code",
      "metadata": {
        "colab": {
          "base_uri": "https://localhost:8080/"
        },
        "id": "e12kMVd3V4FH",
        "outputId": "21712a14-e8a1-446d-aaad-8e4cdc05c998"
      },
      "source": [
        "n = [1,2,0,0,4,0]\n",
        "print('Indices of non-zero elements are: ',np.nonzero(n))"
      ],
      "execution_count": 9,
      "outputs": [
        {
          "output_type": "stream",
          "text": [
            "Indices of non-zero elements are:  (array([0, 1, 4]),)\n"
          ],
          "name": "stdout"
        }
      ]
    },
    {
      "cell_type": "markdown",
      "metadata": {
        "id": "YSrlCHKcV743"
      },
      "source": [
        "Q10. Create a 3x3 identity matrix"
      ]
    },
    {
      "cell_type": "code",
      "metadata": {
        "colab": {
          "base_uri": "https://localhost:8080/"
        },
        "id": "MVTlilVFV8dh",
        "outputId": "3a947730-94a2-43e5-f546-16be0582c847"
      },
      "source": [
        "i = np.identity(3)\n",
        "print(i)"
      ],
      "execution_count": 10,
      "outputs": [
        {
          "output_type": "stream",
          "text": [
            "[[1. 0. 0.]\n",
            " [0. 1. 0.]\n",
            " [0. 0. 1.]]\n"
          ],
          "name": "stdout"
        }
      ]
    },
    {
      "cell_type": "markdown",
      "metadata": {
        "id": "PZ1d5Ck8V_5N"
      },
      "source": [
        "Q11. Create a 3x3x3 array with random values"
      ]
    },
    {
      "cell_type": "code",
      "metadata": {
        "colab": {
          "base_uri": "https://localhost:8080/"
        },
        "id": "tur5hrh9WAjW",
        "outputId": "ca4be52d-8a0b-4053-c2a1-b5da3834baa7"
      },
      "source": [
        "x = np.random.random((3,3,3))\n",
        "print(x)"
      ],
      "execution_count": 11,
      "outputs": [
        {
          "output_type": "stream",
          "text": [
            "[[[0.42341934 0.65167392 0.67041893]\n",
            "  [0.70026573 0.74811481 0.11234815]\n",
            "  [0.12439624 0.7250351  0.18874335]]\n",
            "\n",
            " [[0.94142064 0.56568594 0.24454457]\n",
            "  [0.58269062 0.05578546 0.12007751]\n",
            "  [0.18666685 0.02579343 0.1692124 ]]\n",
            "\n",
            " [[0.30328141 0.11281828 0.15171084]\n",
            "  [0.94888457 0.02313933 0.50555839]\n",
            "  [0.35513409 0.72705494 0.74785828]]]\n"
          ],
          "name": "stdout"
        }
      ]
    },
    {
      "cell_type": "markdown",
      "metadata": {
        "id": "gDYKowIfWErm"
      },
      "source": [
        "Q12. Create a 10x10 array with random values and find the minimum and maximum values"
      ]
    },
    {
      "cell_type": "code",
      "metadata": {
        "colab": {
          "base_uri": "https://localhost:8080/"
        },
        "id": "ZIbgZR1lWFjP",
        "outputId": "13ee973f-eae9-4462-8c09-baf6c266e496"
      },
      "source": [
        "x = np.random.random((10,10))\n",
        "print(x)\n",
        "print('Minimum value of the array is: ',x.min())\n",
        "print('Maximum value of the array is: ',x.max())"
      ],
      "execution_count": 12,
      "outputs": [
        {
          "output_type": "stream",
          "text": [
            "[[0.69981192 0.02772532 0.78673494 0.69155452 0.83321435 0.22276006\n",
            "  0.73067888 0.403407   0.10297807 0.89206953]\n",
            " [0.20351793 0.15124024 0.76593353 0.27899578 0.01679005 0.86554079\n",
            "  0.8422208  0.88918182 0.76570967 0.42533141]\n",
            " [0.72201145 0.57925422 0.38281542 0.31325683 0.42252027 0.95108459\n",
            "  0.85633727 0.53935994 0.04913607 0.490189  ]\n",
            " [0.60327664 0.49157846 0.87635029 0.19267474 0.31195283 0.10486672\n",
            "  0.51427036 0.71603025 0.44703854 0.17477677]\n",
            " [0.57862904 0.72417746 0.64817455 0.39034454 0.66478903 0.83522881\n",
            "  0.65654271 0.36186044 0.15794303 0.32898042]\n",
            " [0.38263818 0.78688059 0.24663477 0.82562307 0.52374587 0.22346107\n",
            "  0.02533266 0.39308325 0.3642359  0.19313809]\n",
            " [0.47770764 0.17526362 0.47139239 0.32838122 0.17522801 0.5131135\n",
            "  0.44174982 0.9913306  0.69999832 0.09140348]\n",
            " [0.87576051 0.7291928  0.60336871 0.20837923 0.87366144 0.54107254\n",
            "  0.36931192 0.79292231 0.04857319 0.28359243]\n",
            " [0.5574154  0.15838128 0.55269128 0.98343091 0.49650699 0.1807067\n",
            "  0.68950555 0.91187158 0.61430026 0.28712244]\n",
            " [0.3280103  0.07419423 0.53416556 0.84359217 0.06927647 0.89767866\n",
            "  0.41674646 0.24107009 0.39448555 0.61105228]]\n",
            "Minimum value of the array is:  0.016790049573496058\n",
            "Maximum value of the array is:  0.9913306039642346\n"
          ],
          "name": "stdout"
        }
      ]
    },
    {
      "cell_type": "markdown",
      "metadata": {
        "id": "wRPfIgdQWKYf"
      },
      "source": [
        "Q13. Create a random vector of size 30 and find the mean value"
      ]
    },
    {
      "cell_type": "code",
      "metadata": {
        "colab": {
          "base_uri": "https://localhost:8080/"
        },
        "id": "celiWz9_WK_H",
        "outputId": "b53f3cf4-1f46-413d-c5d3-1731d0abe474"
      },
      "source": [
        "x = np.random.random((30))\n",
        "print(x)\n",
        "print('Mean value of the random vector is: ',x.mean())"
      ],
      "execution_count": 13,
      "outputs": [
        {
          "output_type": "stream",
          "text": [
            "[0.9000195  0.18197537 0.16269188 0.14864321 0.22894485 0.44854623\n",
            " 0.36740517 0.87657102 0.70098767 0.05312439 0.70130027 0.10211496\n",
            " 0.15152158 0.79228065 0.58037674 0.932331   0.90368655 0.23159775\n",
            " 0.70954654 0.0247822  0.50783132 0.40142564 0.66654594 0.7018574\n",
            " 0.09848827 0.92641487 0.82716685 0.84491665 0.03363759 0.37019579]\n",
            "Mean value of the random vector is:  0.48589759498464313\n"
          ],
          "name": "stdout"
        }
      ]
    },
    {
      "cell_type": "markdown",
      "metadata": {
        "id": "XmkHdhxdWNwd"
      },
      "source": [
        "Q14. Create a 2d array with 1 on the border and 0 inside"
      ]
    },
    {
      "cell_type": "code",
      "metadata": {
        "colab": {
          "base_uri": "https://localhost:8080/"
        },
        "id": "jMzwYM7vWOS1",
        "outputId": "d63a67ae-425d-4794-d265-e228041b37a5"
      },
      "source": [
        "x = np.ones((7,7))\n",
        "print('Original array: ')\n",
        "print(x)\n",
        "x[1:-1,1:-1]=0\n",
        "print('2d array with 1 on the border and 0 inside: ')\n",
        "print(x)"
      ],
      "execution_count": 14,
      "outputs": [
        {
          "output_type": "stream",
          "text": [
            "Original array: \n",
            "[[1. 1. 1. 1. 1. 1. 1.]\n",
            " [1. 1. 1. 1. 1. 1. 1.]\n",
            " [1. 1. 1. 1. 1. 1. 1.]\n",
            " [1. 1. 1. 1. 1. 1. 1.]\n",
            " [1. 1. 1. 1. 1. 1. 1.]\n",
            " [1. 1. 1. 1. 1. 1. 1.]\n",
            " [1. 1. 1. 1. 1. 1. 1.]]\n",
            "2d array with 1 on the border and 0 inside: \n",
            "[[1. 1. 1. 1. 1. 1. 1.]\n",
            " [1. 0. 0. 0. 0. 0. 1.]\n",
            " [1. 0. 0. 0. 0. 0. 1.]\n",
            " [1. 0. 0. 0. 0. 0. 1.]\n",
            " [1. 0. 0. 0. 0. 0. 1.]\n",
            " [1. 0. 0. 0. 0. 0. 1.]\n",
            " [1. 1. 1. 1. 1. 1. 1.]]\n"
          ],
          "name": "stdout"
        }
      ]
    },
    {
      "cell_type": "markdown",
      "metadata": {
        "id": "f9JOBNxgWR7W"
      },
      "source": [
        "Q15. How to add a border (filled with 0's) around an existing array?"
      ]
    },
    {
      "cell_type": "code",
      "metadata": {
        "colab": {
          "base_uri": "https://localhost:8080/"
        },
        "id": "-hGHBoIFWbVh",
        "outputId": "3ef50ce0-18d1-44f0-e621-696bfbdcaef6"
      },
      "source": [
        "x = np.ones((3,3))\n",
        "print(\"Original array:\")\n",
        "print(x)\n",
        "print(\"0 on the border and 1 inside in the array\")\n",
        "x = np.pad(x, pad_width=1, mode='constant', constant_values=0)\n",
        "print(x)"
      ],
      "execution_count": 15,
      "outputs": [
        {
          "output_type": "stream",
          "text": [
            "Original array:\n",
            "[[1. 1. 1.]\n",
            " [1. 1. 1.]\n",
            " [1. 1. 1.]]\n",
            "0 on the border and 1 inside in the array\n",
            "[[0. 0. 0. 0. 0.]\n",
            " [0. 1. 1. 1. 0.]\n",
            " [0. 1. 1. 1. 0.]\n",
            " [0. 1. 1. 1. 0.]\n",
            " [0. 0. 0. 0. 0.]]\n"
          ],
          "name": "stdout"
        }
      ]
    },
    {
      "cell_type": "markdown",
      "metadata": {
        "id": "OSkpHxzuWfGX"
      },
      "source": [
        "x = np.ones((3,3))\n",
        "print(\"Original array:\")\n",
        "print(x)\n",
        "print(\"0 on the border and 1 inside in the array\")\n",
        "x = np.pad(x, pad_width=1, mode='constant', constant_values=0)\n",
        "print(x)"
      ]
    },
    {
      "cell_type": "code",
      "metadata": {
        "colab": {
          "base_uri": "https://localhost:8080/"
        },
        "id": "zkUXPsDIWfwh",
        "outputId": "3c3f4c1a-b510-45c9-8669-a58ee2e2f4bd"
      },
      "source": [
        "a = np.arange(1,15).reshape(2,7)\n",
        "print(a)\n",
        "\n",
        "#Get 13\n",
        "print(a[1,5])\n",
        "\n",
        "#Get first row only\n",
        "print(a[0])\n",
        "\n",
        "#Get 3rd column only\n",
        "print(a[:,2])\n",
        "\n",
        "#Get [2,4,6]\n",
        "print([a[0,1],a[0,3],a[0,5]])\n",
        "\n",
        "#Replace 13 by 20\n",
        "a[1,5]=20\n",
        "print(a)"
      ],
      "execution_count": 16,
      "outputs": [
        {
          "output_type": "stream",
          "text": [
            "[[ 1  2  3  4  5  6  7]\n",
            " [ 8  9 10 11 12 13 14]]\n",
            "13\n",
            "[1 2 3 4 5 6 7]\n",
            "[ 3 10]\n",
            "[2, 4, 6]\n",
            "[[ 1  2  3  4  5  6  7]\n",
            " [ 8  9 10 11 12 20 14]]\n"
          ],
          "name": "stdout"
        }
      ]
    },
    {
      "cell_type": "markdown",
      "metadata": {
        "id": "El-oYtzqWkN1"
      },
      "source": [
        "Q17. How to Convert a 1D array to a 2D array with 2 rows?"
      ]
    },
    {
      "cell_type": "code",
      "metadata": {
        "colab": {
          "base_uri": "https://localhost:8080/"
        },
        "id": "5df5HUnWWk7-",
        "outputId": "8af47573-aed0-48b0-fb54-e3c12ff8edf4"
      },
      "source": [
        "a = np.arange(10)\n",
        "print('1D array:')\n",
        "print(a)\n",
        "a = a.reshape(2,5)\n",
        "print('2D array with 2 rows:')\n",
        "print(a)"
      ],
      "execution_count": 17,
      "outputs": [
        {
          "output_type": "stream",
          "text": [
            "1D array:\n",
            "[0 1 2 3 4 5 6 7 8 9]\n",
            "2D array with 2 rows:\n",
            "[[0 1 2 3 4]\n",
            " [5 6 7 8 9]]\n"
          ],
          "name": "stdout"
        }
      ]
    },
    {
      "cell_type": "markdown",
      "metadata": {
        "id": "jDRAWnjDWtte"
      },
      "source": [
        "Q18. Create the following pattern without hardcoding. Use only numpy functions and the below input array a.\n",
        "\n",
        "Input:\n",
        "\n",
        "a = np.array([1,2,3])\n",
        "\n",
        "Desired Output:\n",
        "\n",
        "array([1, 1, 1, 2, 2, 2, 3, 3, 3, 1, 2, 3, 1, 2, 3, 1, 2, 3])"
      ]
    },
    {
      "cell_type": "code",
      "metadata": {
        "colab": {
          "base_uri": "https://localhost:8080/"
        },
        "id": "H6hIRExrWuy1",
        "outputId": "763c118f-6279-4ad1-e975-cf7421d808d8"
      },
      "source": [
        "a = np.array([1,2,3])\n",
        "np.r_[np.repeat(a, 3), np.tile(a, 3)]"
      ],
      "execution_count": 18,
      "outputs": [
        {
          "output_type": "execute_result",
          "data": {
            "text/plain": [
              "array([1, 1, 1, 2, 2, 2, 3, 3, 3, 1, 2, 3, 1, 2, 3, 1, 2, 3])"
            ]
          },
          "metadata": {
            "tags": []
          },
          "execution_count": 18
        }
      ]
    },
    {
      "cell_type": "markdown",
      "metadata": {
        "id": "trCxZh0IWxeI"
      },
      "source": [
        "Q19. Write a program to show how Numpy taking less memory compared to Python List?"
      ]
    },
    {
      "cell_type": "code",
      "metadata": {
        "colab": {
          "base_uri": "https://localhost:8080/"
        },
        "id": "-JWAXrndWzK5",
        "outputId": "3d2008d3-1363-4372-f221-5b53eb324eb7"
      },
      "source": [
        "import sys\n",
        "\n",
        "l = range(100)\n",
        "print('Size of each element of list in bytes: ',sys.getsizeof(l))\n",
        "print('Size of the whole list in bytes: ',sys.getsizeof(l)*len(l))\n",
        "\n",
        "a = np.arange(100)\n",
        "print('Size of each element in the Numpy array in bytes: ',a.itemsize)\n",
        "print('Size of the whole Numpy array in bites: ',a.itemsize*a.size)"
      ],
      "execution_count": 19,
      "outputs": [
        {
          "output_type": "stream",
          "text": [
            "Size of each element of list in bytes:  48\n",
            "Size of the whole list in bytes:  4800\n",
            "Size of each element in the Numpy array in bytes:  8\n",
            "Size of the whole Numpy array in bites:  800\n"
          ],
          "name": "stdout"
        }
      ]
    },
    {
      "cell_type": "markdown",
      "metadata": {
        "id": "vxoJQ3cjW211"
      },
      "source": [
        "Q20. Write a program to show how Numpy taking less time compared to Python List?"
      ]
    },
    {
      "cell_type": "code",
      "metadata": {
        "colab": {
          "base_uri": "https://localhost:8080/"
        },
        "id": "gza2IAmhW4qi",
        "outputId": "77182d1b-f5e4-421e-a64e-07e700e0c458"
      },
      "source": [
        "import sys\n",
        "import time\n",
        "\n",
        "size = 1000000\n",
        "l1 = range(size)\n",
        "l2 = range(size)\n",
        "\n",
        "n1 = np.arange(size)\n",
        "n2 = np.arange(size)\n",
        "\n",
        "#list\n",
        "start = time.time()\n",
        "result = [(x+y) for x,y in zip(l1,l2)]\n",
        "print('Time taken by lists:')\n",
        "print((time.time()-start)*1000)\n",
        "\n",
        "#numpy array\n",
        "start = time.time()\n",
        "result1 = n1+n2\n",
        "print('Time taken by numpy arrays')\n",
        "print((time.time()-start)*1000)"
      ],
      "execution_count": 20,
      "outputs": [
        {
          "output_type": "stream",
          "text": [
            "Time taken by lists:\n",
            "121.1390495300293\n",
            "Time taken by numpy arrays\n",
            "3.483295440673828\n"
          ],
          "name": "stdout"
        }
      ]
    }
  ]
}